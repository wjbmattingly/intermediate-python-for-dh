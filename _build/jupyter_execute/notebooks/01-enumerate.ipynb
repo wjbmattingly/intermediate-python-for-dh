{
 "cells": [
  {
   "cell_type": "markdown",
   "id": "e49113fc-cdff-4826-aafe-1bfb2b895808",
   "metadata": {},
   "source": [
    "# Enumerate in Python: A Tutorial for Humanists and Beginners"
   ]
  },
  {
   "cell_type": "markdown",
   "id": "e86adb93-71ff-4cd4-a499-ccebf251e3cc",
   "metadata": {},
   "source": [
    "In this tutorial, we will explore the `enumerate()` function in Python, which is a valuable tool for working with sequences like lists, tuples, and strings. This tutorial is designed for humanists and those new to Python, so we'll use simple examples with strings to help you understand the concept.\n",
    "\n",
    "It is important to remember that `enumerate()` can be replaced with longer, more verbose code. `Enumerate()` is useful, however, in making your code quicker to write. It allows for you to do something in a single line that would otherwise take 3 lines to write.\n",
    "\n",
    "While `enumerate()` can look a bit daunting on the surface, it is worthwhile to learn. Not only will it make your code look more professional, it will also allow you to better understand someone else's code. You will frequently see it used in code samples without explanation."
   ]
  },
  {
   "cell_type": "markdown",
   "id": "94e5e72b-6aa9-440b-8797-3d741243c886",
   "metadata": {},
   "source": [
    "## What is the enumerate() function?\n",
    "\n",
    "The `enumerate()` function is a built-in Python function that allows you to iterate over a sequence (like a list or a string) and keep track of the index (position) of the current item along with the item itself. This can be particularly useful when you need to know the position of an item in a sequence while processing it.\n",
    "\n",
    "The basic syntax of the `enumerate()` function is:\n",
    "\n",
    "```python\n",
    "enumerate(sequence, start=0)\n",
    "```\n",
    "\n",
    "- `sequence`: The sequence you want to iterate over (e.g., a list, tuple, or string).\n",
    "- `start`: An optional parameter that specifies the starting value of the index (default is 0).\n",
    "\n",
    "The `enumerate()` function returns an iterator, which you can use with a for loop."
   ]
  },
  {
   "cell_type": "markdown",
   "id": "3cea7a10-e77a-4d23-b02f-e3a1c0a9db1b",
   "metadata": {},
   "source": [
    "## Using the `enumerate()` function with strings\n",
    "\n",
    "Let's say you have a string and you want to print each character in the string along with its index. You can use the enumerate() function to achieve this."
   ]
  },
  {
   "cell_type": "code",
   "execution_count": 2,
   "id": "657b1453-6c9f-487c-b773-dad6fd5d8339",
   "metadata": {},
   "outputs": [
    {
     "name": "stdout",
     "output_type": "stream",
     "text": [
      "0 W\n",
      "1 i\n",
      "2 l\n",
      "3 l\n",
      "4 i\n",
      "5 a\n",
      "6 m\n"
     ]
    }
   ],
   "source": [
    "text = \"William\"\n",
    "\n",
    "for index, character in enumerate(text):\n",
    "    print(index, character)"
   ]
  },
  {
   "cell_type": "markdown",
   "id": "90797092-84b9-4b74-9cbc-0f7a84fe4095",
   "metadata": {},
   "source": [
    "As you can see, the `enumerate()` function makes it easy to keep track of the index of each character in the string."
   ]
  },
  {
   "cell_type": "markdown",
   "id": "bb45da7f-48d0-4642-b577-eadec3c3b5d7",
   "metadata": {},
   "source": [
    "## Changing the starting index with the `start` parameter\n",
    "\n",
    "By default, the `enumerate()` function starts the index at 0. However, you can change the starting index by providing a value for the `start` parameter.\n",
    "\n",
    "For example, let's start the index at 1:"
   ]
  },
  {
   "cell_type": "code",
   "execution_count": 4,
   "id": "7f4d232b-de46-4ff3-8c65-f18ea84948a2",
   "metadata": {},
   "outputs": [
    {
     "name": "stdout",
     "output_type": "stream",
     "text": [
      "1 W\n",
      "2 i\n",
      "3 l\n",
      "4 l\n",
      "5 i\n",
      "6 a\n",
      "7 m\n"
     ]
    }
   ],
   "source": [
    "text = \"William\"\n",
    "\n",
    "for index, character in enumerate(text, start=1):\n",
    "    print(index, character)"
   ]
  },
  {
   "cell_type": "markdown",
   "id": "ab03ff84-6bb7-438f-abac-638147f6aed7",
   "metadata": {},
   "source": [
    "As you can see, the index now starts at 1 instead of 0."
   ]
  },
  {
   "cell_type": "markdown",
   "id": "1b93c5ee-4daf-4408-8240-cba521ba3e9d",
   "metadata": {},
   "source": [
    "## Practical example: Finding the positions of a specific character in a string\n",
    "\n",
    "Let's use the `enumerate()` function in a practical example. Suppose you want to find the positions of all occurrences of the letter \"l\" in a string."
   ]
  },
  {
   "cell_type": "code",
   "execution_count": 6,
   "id": "16de9be9-09db-499b-be99-99fe1d9c7917",
   "metadata": {},
   "outputs": [
    {
     "name": "stdout",
     "output_type": "stream",
     "text": [
      "The character 'l' is found at positions: [0]\n"
     ]
    }
   ],
   "source": [
    "text = \"l\"\n",
    "target = \"l\"\n",
    "\n",
    "positions = []\n",
    "\n",
    "for index, character in enumerate(text):\n",
    "    if character == target:\n",
    "        positions.append(index)\n",
    "\n",
    "print(f\"The character '{target}' is found at positions: {positions}\")\n"
   ]
  },
  {
   "cell_type": "markdown",
   "id": "84100ac3-5afd-4cdb-9fdc-0729fbd8f9ad",
   "metadata": {},
   "source": [
    "In this example, the enumerate() function helps us keep track of the index while iterating through the string. We check if the current character matches the target character, and if it does, we add the index to our positions list."
   ]
  },
  {
   "cell_type": "code",
   "execution_count": null,
   "id": "61c0893a-8981-4145-bc88-b2535955d323",
   "metadata": {},
   "outputs": [],
   "source": []
  }
 ],
 "metadata": {
  "kernelspec": {
   "display_name": "Python 3 (ipykernel)",
   "language": "python",
   "name": "python3"
  },
  "language_info": {
   "codemirror_mode": {
    "name": "ipython",
    "version": 3
   },
   "file_extension": ".py",
   "mimetype": "text/x-python",
   "name": "python",
   "nbconvert_exporter": "python",
   "pygments_lexer": "ipython3",
   "version": "3.9.16"
  }
 },
 "nbformat": 4,
 "nbformat_minor": 5
}