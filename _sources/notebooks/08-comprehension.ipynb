{
 "cells": [
  {
   "attachments": {},
   "cell_type": "markdown",
   "metadata": {},
   "source": [
    "# Comprehension with Sequences\n",
    "\n",
    "In this tutorial, we will focus on comprehension, a powerful feature in Python that allows us to create and manipulate lists, sets, and dictionaries in a concise and efficient manner. To make this tutorial relatable for humanists, we will use examples from J.R.R. Tolkien's 'The Hobbit.'\n",
    "\n",
    "## What is Comprehension?\n",
    "\n",
    "Comprehension allows you to generate new data structures by applying an expression to each item in an existing iterable (e.g., a list, a set, or a range) while optionally filtering the items based on a condition. Comprehensions make your code more readable and often faster.\n",
    "\n",
    "There are three main types of comprehension in Python:\n",
    "\n",
    "- List Comprehension: It creates a new list by applying an expression to each element in an existing iterable. The syntax for list comprehension is:\n",
    "\n",
    "```python\n",
    "[expression for item in iterable if condition]\n",
    "```\n",
    "\n",
    "- Set Comprehension: Similar to list comprehension, it creates a new set instead of a list. The syntax for set comprehension is:\n",
    "\n",
    "```python\n",
    "{expression for item in iterable if condition}\n",
    "```\n",
    "\n",
    "- Dictionary Comprehension: It creates a new dictionary by applying an expression that generates key-value pairs for each element in an existing iterable. The syntax for dictionary comprehension is:\n",
    "\n",
    "```python\n",
    "{key_expression: value_expression for item in iterable if condition}\n",
    "```\n",
    "\n",
    "Here is a handy table that you can refer to:\n",
    "\n",
    "| Comprehension Type  | Syntax                                         | Example                                   |\n",
    "|---------------------|------------------------------------------------|-------------------------------------------|\n",
    "| List Comprehension  | `[expression for item in iterable if condition]` | `[x * 2 for x in range(5) if x % 2 == 0]`   |\n",
    "| Set Comprehension   | `{expression for item in iterable if condition}` | `{x * 3 for x in range(5) if x % 2 != 0}`   |\n",
    "| Dictionary Comprehension | `{key_expression: value_expression for item in iterable if condition}` | `{x: x**2 for x in range(5) if x % 2 == 0}` |\n",
    "\n",
    "In each type of comprehension, the expression is applied to each item in the iterable. The optional if condition part allows you to filter the items based on a specific condition.\n",
    "\n",
    "Comprehension provides a more elegant and readable alternative to traditional loops and conditional statements when creating and manipulating data structures in Python.\n",
    "\n",
    "In this tutorial, we will learn about each of these.\n",
    "\n",
    "## List Comprehension\n",
    "\n",
    "Here again is the synytax for"
   ]
  },
  {
   "cell_type": "code",
   "execution_count": 7,
   "metadata": {},
   "outputs": [
    {
     "name": "stdout",
     "output_type": "stream",
     "text": [
      "['bilbo', 'gandalf', 'thorin', 'balin', 'dwalin', 'kili', 'fili']\n"
     ]
    }
   ],
   "source": [
    "characters = [\"Bilbo\", \"Gandalf\", \"Thorin\", \"Balin\", \"Dwalin\", \"Kili\", \"Fili\"]\n",
    "\n",
    "lower_case_characters = [name.lower() for name in characters]\n",
    "\n",
    "print(lower_case_characters)"
   ]
  },
  {
   "attachments": {},
   "cell_type": "markdown",
   "metadata": {},
   "source": [
    "## Set Comprehension\n",
    "\n",
    "Set comprehension works similarly to list comprehension but creates a set instead of a list. It uses curly braces {} instead of square brackets."
   ]
  },
  {
   "cell_type": "code",
   "execution_count": 5,
   "metadata": {},
   "outputs": [
    {
     "name": "stdout",
     "output_type": "stream",
     "text": [
      "{4, 5, 6, 7}\n"
     ]
    }
   ],
   "source": [
    "name_lengths = {len(name) for name in characters}\n",
    "\n",
    "print(name_lengths)"
   ]
  },
  {
   "cell_type": "code",
   "execution_count": null,
   "metadata": {},
   "outputs": [],
   "source": []
  },
  {
   "attachments": {},
   "cell_type": "markdown",
   "metadata": {},
   "source": [
    "## Dictionary Comprehension\n",
    "\n",
    "Dictionary comprehension allows us to create dictionaries with a concise syntax. It consists of a key-value pair expression followed by a 'for' statement inside curly braces."
   ]
  },
  {
   "cell_type": "code",
   "execution_count": 4,
   "metadata": {},
   "outputs": [
    {
     "name": "stdout",
     "output_type": "stream",
     "text": [
      "{'Bilbo': 5, 'Gandalf': 7, 'Thorin': 6, 'Balin': 5, 'Dwalin': 6, 'Kili': 4, 'Fili': 4}\n"
     ]
    }
   ],
   "source": [
    "name_length_dict = {name: len(name) for name in characters}\n",
    "\n",
    "print(name_length_dict)\n"
   ]
  },
  {
   "attachments": {},
   "cell_type": "markdown",
   "metadata": {},
   "source": [
    "## Combining Comprehension with Conditionals\n",
    "\n",
    "We can also add a condition using an `if` statement. Let's say, we only wanted the names that were longer than 5 characters. We could add the if statement at the end of our condition."
   ]
  },
  {
   "cell_type": "code",
   "execution_count": 6,
   "metadata": {},
   "outputs": [
    {
     "name": "stdout",
     "output_type": "stream",
     "text": [
      "['Gandalf', 'Thorin', 'Dwalin']\n"
     ]
    }
   ],
   "source": [
    "long_names = [name for name in characters if len(name) > 5]\n",
    "\n",
    "print(long_names)"
   ]
  },
  {
   "attachments": {},
   "cell_type": "markdown",
   "metadata": {},
   "source": [
    "We can even alter our syntax to express an `if` and `else` condition. In this example, we used an if-else expression within the list comprehension:\n",
    "\n",
    "- `\"hobbit\" if name == \"Bilbo\" else \"non-hobbit\"`: This expression checks if the character's name is \"Bilbo\" and assigns the value \"hobbit\" if the condition is met. Otherwise, it assigns the value \"non-hobbit\".\n",
    "\n",
    "- `for name in characters`: This iterates over each element (name) in the characters list.\n",
    "\n",
    "The resulting list, category, stores the character classification as either \"hobbit\" or \"non-hobbit\".In this example, we used an if-else expression within the list comprehension:"
   ]
  },
  {
   "cell_type": "code",
   "execution_count": 10,
   "metadata": {},
   "outputs": [
    {
     "name": "stdout",
     "output_type": "stream",
     "text": [
      "['hobbit', 'non-hobbit', 'non-hobbit', 'non-hobbit', 'non-hobbit', 'non-hobbit', 'non-hobbit']\n"
     ]
    }
   ],
   "source": [
    "category = [\"hobbit\" if name == \"Bilbo\" else \"non-hobbit\" for name in characters]\n",
    "\n",
    "print(category)"
   ]
  },
  {
   "attachments": {},
   "cell_type": "markdown",
   "metadata": {},
   "source": [
    "By now, you should have a better understanding of comprehension in Python and how it can be applied to lists, sets, and dictionaries. With these examples from 'The Hobbit,' you can start experimenting and creating your own comprehension expressions to analyze and manipulate data from your favorite literary works"
   ]
  },
  {
   "cell_type": "markdown",
   "metadata": {},
   "source": []
  }
 ],
 "metadata": {
  "kernelspec": {
   "display_name": "base",
   "language": "python",
   "name": "python3"
  },
  "language_info": {
   "codemirror_mode": {
    "name": "ipython",
    "version": 3
   },
   "file_extension": ".py",
   "mimetype": "text/x-python",
   "name": "python",
   "nbconvert_exporter": "python",
   "pygments_lexer": "ipython3",
   "version": "3.8.5"
  },
  "orig_nbformat": 4
 },
 "nbformat": 4,
 "nbformat_minor": 2
}
