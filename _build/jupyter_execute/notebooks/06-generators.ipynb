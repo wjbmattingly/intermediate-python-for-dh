{
 "cells": [
  {
   "attachments": {},
   "cell_type": "markdown",
   "metadata": {},
   "source": [
    "# Generators"
   ]
  },
  {
   "attachments": {},
   "cell_type": "markdown",
   "metadata": {},
   "source": [
    "Generators are a powerful concept in Python that can help us work with large amounts of text-based data more efficiently. In this tutorial, we will introduce generators, explain why they are important for memory management, and provide examples tailored to humanists.\n",
    "\n",
    "## Introduction to Iterators and Generators\n",
    "\n",
    "Before diving into generators, let's briefly introduce the concept of iterators. An iterator is an object that allows us to loop over a collection of items, such as a list or a string, one item at a time. Python has built-in iterator objects for many data structures like lists, tuples, and strings. \n",
    "\n",
    "A generator is a special type of iterator that allows us to generate a sequence of values on-the-fly, without having to store all the values in memory. Generators are created using a special type of function called a generator function. Instead of using the return keyword, generator functions use the `yield` keyword to `return` values one at a time.\n",
    "\n",
    "## Memory Management and the Importance of Generators\n",
    "\n",
    "As humanists, we work primarily with texts. Often, our texts are quite short, but when we want to work with large collections of documents, it can be challenging to hold all the data in your computer's memory.\n",
    "\n",
    "Memory, in the context of computers, refers to the temporary storage used by a computer to hold data that it is currently processing or has recently processed. Think of it like the desk space you use when working on a project. You can only have a limited number of items on the desk at once, and the more items you have, the harder it is to find and work with the ones you need.\n",
    "\n",
    "Computer memory, often called RAM (Random Access Memory), works in a similar way. It holds data and instructions that the computer needs to access quickly while performing tasks. The more data and instructions you try to store in memory, the more resources the computer needs to manage them, which can slow down the system.\n",
    "\n",
    "When working with large text-based data, memory management becomes crucial. Storing large amounts of data in memory can be inefficient and slow down your program. This is where generators come in handy.\n",
    "\n",
    "Generators allow you to process large datasets one item at a time, without loading the entire dataset into memory. This means that you can work with data that is too large to fit in memory, or process data more efficiently by only loading the necessary items.\n",
    "\n",
    "## Creating and Using Generators\n",
    "\n",
    "To create a generator function, use the `def` keyword to define a function, just like a regular function, but use the `yield` keyword instead of return to return values. Here's a simple example:"
   ]
  },
  {
   "cell_type": "code",
   "execution_count": 1,
   "metadata": {},
   "outputs": [],
   "source": [
    "def word_generator(text):\n",
    "    for word in text.split():\n",
    "        yield word\n"
   ]
  },
  {
   "attachments": {},
   "cell_type": "markdown",
   "metadata": {},
   "source": [
    "This generator function takes a text string as input and yields words one at a time. To use the generator, you need to create a generator object by calling the generator function:"
   ]
  },
  {
   "cell_type": "code",
   "execution_count": 2,
   "metadata": {},
   "outputs": [
    {
     "name": "stdout",
     "output_type": "stream",
     "text": [
      "To\n",
      "be,\n",
      "or\n",
      "not\n",
      "to\n",
      "be,\n",
      "that\n",
      "is\n",
      "the\n",
      "question\n"
     ]
    }
   ],
   "source": [
    "text = \"To be, or not to be, that is the question\"\n",
    "word_gen = word_generator(text)\n",
    "\n",
    "for word in word_gen:\n",
    "    print(word)"
   ]
  },
  {
   "attachments": {},
   "cell_type": "markdown",
   "metadata": {},
   "source": [
    "##  Example: Analyzing Literary Works\n",
    "\n",
    "Let's say you want to analyze the frequency of words in a large literary work, like \"War and Peace\" by Leo Tolstoy. With a generator, you can efficiently process the text without loading the entire book into memory.\n",
    "\n",
    "First, create a generator function to read the book line by line:"
   ]
  },
  {
   "cell_type": "code",
   "execution_count": 3,
   "metadata": {},
   "outputs": [],
   "source": [
    "def read_book_line_by_line(file_path):\n",
    "    with open(file_path, 'r', encoding='utf-8') as file:\n",
    "        for line in file:\n",
    "            yield line\n"
   ]
  },
  {
   "cell_type": "code",
   "execution_count": 20,
   "metadata": {},
   "outputs": [],
   "source": [
    "shakespeare = read_book_line_by_line(\"../data/shakespeare.txt\")"
   ]
  },
  {
   "attachments": {},
   "cell_type": "markdown",
   "metadata": {},
   "source": [
    "## Accessing the Generator Data with `next()`\n",
    "\n",
    "The `next()` function is a built-in Python function that allows you to manually retrieve the next item from a generator. When you call `next()` with a generator as its argument, the generator function runs until it encounters the yield keyword, at which point it returns the value specified after the `yield`. The next time you call next() on the same generator, it continues executing from where it left off, retaining its previous state and any local variables."
   ]
  },
  {
   "cell_type": "code",
   "execution_count": 21,
   "metadata": {},
   "outputs": [
    {
     "name": "stdout",
     "output_type": "stream",
     "text": [
      "1609\n",
      "\n",
      "THE SONNETS\n",
      "\n",
      "by William Shakespeare\n",
      "\n"
     ]
    }
   ],
   "source": [
    "print(next(shakespeare))\n",
    "print(next(shakespeare))\n",
    "print(next(shakespeare))"
   ]
  },
  {
   "attachments": {},
   "cell_type": "markdown",
   "metadata": {},
   "source": [
    "Here, we are not loading the entire book into memory, rather we are loading merely a single line at a time. This means that if we are using a computer with low amounts of memory, we can work with larger amounts of data without overloading the system hardware."
   ]
  },
  {
   "cell_type": "markdown",
   "metadata": {},
   "source": []
  }
 ],
 "metadata": {
  "kernelspec": {
   "display_name": "base",
   "language": "python",
   "name": "python3"
  },
  "language_info": {
   "codemirror_mode": {
    "name": "ipython",
    "version": 3
   },
   "file_extension": ".py",
   "mimetype": "text/x-python",
   "name": "python",
   "nbconvert_exporter": "python",
   "pygments_lexer": "ipython3",
   "version": "3.8.5"
  }
 },
 "nbformat": 4,
 "nbformat_minor": 2
}