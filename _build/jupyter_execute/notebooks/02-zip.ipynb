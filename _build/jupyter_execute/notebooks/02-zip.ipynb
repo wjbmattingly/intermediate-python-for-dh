{
 "cells": [
  {
   "attachments": {},
   "cell_type": "markdown",
   "id": "230746cc-0116-40d2-aa35-d6b0c3b4ac46",
   "metadata": {},
   "source": [
    "# The Zip Function in Python\n",
    "\n",
    "In this tutorial, we'll explore the zip() function in Python, which is a useful tool for working with multiple sequences, a category of data structure that includes lists, tuples, or strings. This tutorial is designed for humanists and those new to Python, so we'll use simple examples to help you understand the concept.\n",
    "\n",
    "Like `enumerate()`, there are other ways to produce the same results as `zip()`. Also like `enumerate()`, `zip()` significantly reduces the amount of code you need to write to perform those same actions. You will likely encounter `zip()` when reading code from colleagues or in online tutorials. Often, you will not see it explained or described. Because of this, it can be useful to learn about `zip()` early in your Python career.\n",
    "\n",
    "## What is the `zip()` function?\n",
    "\n",
    "The zip() function is a built-in Python function that allows you to combine two or more sequences (like lists, tuples, or strings) element-wise. It returns an iterator, which yields pairs (or tuples) of corresponding elements from the input sequences. The resulting iterator stops when the shortest input sequence is exhausted.\n",
    "\n",
    "The basic syntax of the zip() function is:\n",
    "\n",
    "```python\n",
    "zip(sequence1, sequence2, ...)\n",
    "```\n",
    "\n",
    "- `sequence1`, `sequence2`, ...: Two or more sequences you want to combine (e.g., lists, tuples, or strings).\n",
    "\n",
    "You can use the `zip()` function with a for loop or convert the iterator to a list or tuple for further processing.\n",
    "\n",
    "\n",
    "## Using the `zip()` function with lists\n",
    "\n",
    "Let's say you have two lists, one with authors and another with their corresponding book titles. You want to create pairs of authors and book titles. You can use the `zip()` function to achieve this."
   ]
  },
  {
   "cell_type": "code",
   "execution_count": 1,
   "id": "6113d9a3-130f-4665-99a1-37efd54bcebc",
   "metadata": {},
   "outputs": [
    {
     "name": "stdout",
     "output_type": "stream",
     "text": [
      "Jane Austen : Pride and Prejudice\n",
      "George Orwell : 1984\n",
      "F. Scott Fitzgerald : The Great Gatsby\n",
      "Harper Lee : To Kill a Mockingbird\n"
     ]
    }
   ],
   "source": [
    "authors = [\"Jane Austen\", \"George Orwell\", \"F. Scott Fitzgerald\", \"Harper Lee\"]\n",
    "books = [\"Pride and Prejudice\", \"1984\", \"The Great Gatsby\", \"To Kill a Mockingbird\"]\n",
    "\n",
    "author_book_pairs = zip(authors, books)\n",
    "\n",
    "for author, book in author_book_pairs:\n",
    "    print(author, \":\", book)\n"
   ]
  },
  {
   "cell_type": "markdown",
   "id": "11923eb9-028c-4b3a-b938-459cb6bae3c2",
   "metadata": {},
   "source": [
    "As you can see, the zip() function combines the two lists element-wise, creating pairs of authors and book titles.\n",
    "\n",
    "## Using the `zip()` function with strings\n",
    "\n",
    "You can also use the `zip()` function with strings. Let's say you have two strings, and you want to create pairs of corresponding characters."
   ]
  },
  {
   "cell_type": "code",
   "execution_count": 3,
   "id": "9e0ad4c9-df99-4a48-bf8f-9f8a2b9b20f5",
   "metadata": {},
   "outputs": [
    {
     "name": "stdout",
     "output_type": "stream",
     "text": [
      "a 1\n",
      "b 2\n",
      "c 3\n",
      "d 4\n",
      "e 5\n"
     ]
    }
   ],
   "source": [
    "string1 = \"abcde\"\n",
    "string2 = \"12345\"\n",
    "\n",
    "char_pairs = zip(string1, string2)\n",
    "\n",
    "for char1, char2 in char_pairs:\n",
    "    print(char1, char2)"
   ]
  },
  {
   "cell_type": "code",
   "execution_count": null,
   "id": "b375ba51-d70d-4868-bf0d-7b515316d3e5",
   "metadata": {},
   "outputs": [],
   "source": []
  }
 ],
 "metadata": {
  "kernelspec": {
   "display_name": "Python 3 (ipykernel)",
   "language": "python",
   "name": "python3"
  },
  "language_info": {
   "codemirror_mode": {
    "name": "ipython",
    "version": 3
   },
   "file_extension": ".py",
   "mimetype": "text/x-python",
   "name": "python",
   "nbconvert_exporter": "python",
   "pygments_lexer": "ipython3",
   "version": "3.9.16"
  }
 },
 "nbformat": 4,
 "nbformat_minor": 5
}