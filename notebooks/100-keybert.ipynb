{
 "cells": [
  {
   "cell_type": "markdown",
   "metadata": {},
   "source": [
    "# How to Find Keywords in Texts Easily with Python, KeyBERT, and Machine Learning\n",
    "\n",
    "![keybert](https://github.com/MaartenGr/KeyBERT/raw/master/images/logo.png)\n",
    "\n",
    "[KeyBERT](https://github.com/MaartenGr/KeyBERT) is a minimal and efficient keyword extraction library that leverages BERT embeddings. It can be used to extract keywords from text and is particularly useful for summarizing and categorizing large datasets. Digital humanists, or anyone who works with texts, may find KeyBERT beneficial in their research for understanding key themes, characters, or ideas in textual data.\n",
    "\n",
    "## Video\n",
    "\n",
    "\n",
    "\n",
    "## Why use KeyBERT?\n",
    "\n",
    "KeyBERT allows individuals to easily capture the keywords of a document with minimal code.\n",
    "\n",
    "## How does it work?\n",
    "\n",
    "KeyBERT works by taking an input text. It then vectorizes the text with a BERT model of your choosing. Next, it compares the vector of each word in the text to the vector of the document as a whole. In doing so, KeyBERT effectively has a measure of how similar ran individual word is to the document; in other words, it knows the relevance of each word to the document as whole. Like other keyword extraction methods, this works with the presumption that the words that are most similar to the document are the keywords, or potential subjects of the text.\n",
    "\n",
    "## Installation and Setup\n",
    "\n",
    "Before using KeyBERT, you'll need to install the package. You can install it using pip:\n",
    "\n",
    "```bash\n",
    "pip install keybert\n",
    "```\n",
    "\n",
    "##  Preparing the Texts\n",
    "\n",
    "For this lesson, we'll use three random sections of the book `Dracula` by Bram Stoker."
   ]
  },
  {
   "cell_type": "code",
   "execution_count": 4,
   "metadata": {},
   "outputs": [],
   "source": [
    "text1 = \"\"\"\"\n",
    "Presently the horses began to scream, and tore at their tethers till I\n",
    "came to them and quieted them. When they did feel my hands on them, they\n",
    "whinnied low as in joy, and licked at my hands and were quiet for a\n",
    "time. Many times through the night did I come to them, till it arrive to\n",
    "the cold hour when all nature is at lowest; and every time my coming was\n",
    "with quiet of them. In the cold hour the fire began to die, and I was\n",
    "about stepping forth to replenish it, for now the snow came in flying\n",
    "sweeps and with it a chill mist. Even in the dark there was a light of\n",
    "some kind, as there ever is over snow; and it seemed as though the\n",
    "snow-flurries and the wreaths of mist took shape as of women with\n",
    "trailing garments. All was in dead, grim silence only that the horses\n",
    "whinnied and cowered, as if in terror of the worst. I began to\n",
    "fear--horrible fears; but then came to me the sense of safety in that\n",
    "ring wherein I stood. I began, too, to think that my imaginings were of\n",
    "the night, and the gloom, and the unrest that I have gone through, and\n",
    "all the terrible anxiety. It was as though my memories of all Jonathan’s\n",
    "horrid experience were befooling me; for the snow flakes and the mist\n",
    "began to wheel and circle round, till I could get as though a shadowy\n",
    "glimpse of those women that would have kissed him. And then the horses\n",
    "cowered lower and lower, and moaned in terror as men do in pain. Even\n",
    "the madness of fright was not to them, so that they could break away. I\n",
    "feared for my dear Madam Mina when these weird figures drew near and\n",
    "circled round. I looked at her, but she sat calm, and smiled at me; when\n",
    "I would have stepped to the fire to replenish it, she caught me and held\n",
    "me back, and whispered, like a voice that one hears in a dream, so low\n",
    "it was:--\n",
    "\"\"\"\n",
    "\n",
    "\n",
    "text2 = \"\"\"\"\n",
    "I only slept a few hours when I went to bed, and feeling that I could\n",
    "not sleep any more, got up. I had hung my shaving glass by the window,\n",
    "and was just beginning to shave. Suddenly I felt a hand on my shoulder,\n",
    "and heard the Count’s voice saying to me, “Good-morning.” I started, for\n",
    "it amazed me that I had not seen him, since the reflection of the glass\n",
    "covered the whole room behind me. In starting I had cut myself slightly,\n",
    "but did not notice it at the moment. Having answered the Count’s\n",
    "salutation, I turned to the glass again to see how I had been mistaken.\n",
    "This time there could be no error, for the man was close to me, and I\n",
    "could see him over my shoulder. But there was no reflection of him in\n",
    "the mirror! The whole room behind me was displayed; but there was no\n",
    "sign of a man in it, except myself. This was startling, and, coming on\n",
    "the top of so many strange things, was beginning to increase that vague\n",
    "feeling of uneasiness which I always have when the Count is near; but at\n",
    "the instant I saw that the cut had bled a little, and the blood was\n",
    "trickling over my chin. I laid down the razor, turning as I did so half\n",
    "round to look for some sticking plaster. When the Count saw my face, his\n",
    "eyes blazed with a sort of demoniac fury, and he suddenly made a grab at\n",
    "my throat. I drew away, and his hand touched the string of beads which\n",
    "held the crucifix. It made an instant change in him, for the fury passed\n",
    "so quickly that I could hardly believe that it was ever there.\n",
    "\"\"\"\n",
    "\n",
    "text3 = \"\"\"\"\n",
    "I knew that there were at least three graves to find--graves that are\n",
    "inhabit; so I search, and search, and I find one of them. She lay in her\n",
    "Vampire sleep, so full of life and voluptuous beauty that I shudder as\n",
    "though I have come to do murder. Ah, I doubt not that in old time, when\n",
    "such things were, many a man who set forth to do such a task as mine,\n",
    "found at the last his heart fail him, and then his nerve. So he delay,\n",
    "and delay, and delay, till the mere beauty and the fascination of the\n",
    "wanton Un-Dead have hypnotise him; and he remain on and on, till sunset\n",
    "come, and the Vampire sleep be over. Then the beautiful eyes of the fair\n",
    "woman open and look love, and the voluptuous mouth present to a\n",
    "kiss--and man is weak. And there remain one more victim in the Vampire\n",
    "fold; one more to swell the grim and grisly ranks of the Un-Dead!...\n",
    "\"\"\""
   ]
  },
  {
   "cell_type": "markdown",
   "metadata": {},
   "source": [
    "## Usage\n",
    "\n",
    "Now that we have our texts, let's go ahead and import the `KeyBERT` class."
   ]
  },
  {
   "cell_type": "code",
   "execution_count": 1,
   "metadata": {},
   "outputs": [],
   "source": [
    "from keybert import KeyBERT"
   ]
  },
  {
   "cell_type": "markdown",
   "metadata": {},
   "source": [
    "Now, we can instantiate the class. By default, we will use the `all-MiniLM-L6-v2` transformer. You can use others available from the `sentence-transformers` library. You can even use models from Flair, Gensim and spaCy. Since we will not be passing any keyword arguments, we are using the `all-MiniLM-L6-v2` in the example below."
   ]
  },
  {
   "cell_type": "code",
   "execution_count": 2,
   "metadata": {},
   "outputs": [],
   "source": [
    "model = KeyBERT()"
   ]
  },
  {
   "cell_type": "markdown",
   "metadata": {},
   "source": [
    "With our model loaded, we can now extract the keywords. To do this, we only need to pass the text to the model."
   ]
  },
  {
   "cell_type": "code",
   "execution_count": 8,
   "metadata": {},
   "outputs": [
    {
     "data": {
      "text/plain": [
       "[('horses', 0.4038),\n",
       " ('gloom', 0.3456),\n",
       " ('fears', 0.3123),\n",
       " ('snow', 0.3074),\n",
       " ('fright', 0.2953)]"
      ]
     },
     "execution_count": 8,
     "metadata": {},
     "output_type": "execute_result"
    }
   ],
   "source": [
    "model.extract_keywords(text1)"
   ]
  },
  {
   "cell_type": "markdown",
   "metadata": {},
   "source": [
    "Pretty cool, right? Our output is a list of tuples. Each tuple has a keyword and its similarity score to the document. We can even pass a keyword argument: `keyphrase_ngram_range`. This let's us specify if we will allow ngrams, such as bigrams or trigramsm. It expects a tuple with the lower ngram and the higher ngram."
   ]
  },
  {
   "cell_type": "code",
   "execution_count": 10,
   "metadata": {},
   "outputs": [
    {
     "data": {
      "text/plain": [
       "[('horses began scream', 0.4998),\n",
       " ('grim silence horses', 0.4989),\n",
       " ('horses whinnied cowered', 0.4751),\n",
       " ('silence horses whinnied', 0.4713),\n",
       " ('horses whinnied', 0.4546)]"
      ]
     },
     "execution_count": 10,
     "metadata": {},
     "output_type": "execute_result"
    }
   ],
   "source": [
    "model.extract_keywords(text1, keyphrase_ngram_range=(1, 3))"
   ]
  },
  {
   "cell_type": "markdown",
   "metadata": {},
   "source": [
    "We can also pass stop words to the model to remove them. Stop words are words that are very ubiquitous and sometimes throw off models."
   ]
  },
  {
   "cell_type": "code",
   "execution_count": 11,
   "metadata": {},
   "outputs": [
    {
     "data": {
      "text/plain": [
       "[('horses whinnied', 0.4546),\n",
       " ('silence horses', 0.4493),\n",
       " ('horses began', 0.4117),\n",
       " ('horses', 0.4038),\n",
       " ('horses cowered', 0.3993)]"
      ]
     },
     "execution_count": 11,
     "metadata": {},
     "output_type": "execute_result"
    }
   ],
   "source": [
    "model.extract_keywords(text1, keyphrase_ngram_range=(1, 2), stop_words=\"english\")"
   ]
  },
  {
   "cell_type": "markdown",
   "metadata": {},
   "source": [
    "To visualize the data, we can pass the keyword argument `highlight`. This is a great way to visualize the data in a notebook."
   ]
  },
  {
   "cell_type": "code",
   "execution_count": 14,
   "metadata": {},
   "outputs": [
    {
     "data": {
      "text/html": [
       "<pre style=\"white-space:pre;overflow-x:auto;line-height:normal;font-family:Menlo,'DejaVu Sans Mono',consolas,'Courier New',monospace\">only <span style=\"color: #000000; text-decoration-color: #000000; background-color: #ffff00\">slept</span> few hours when went to bed and feeling that could not sleep any more got up had hung my <span style=\"color: #000000; text-decoration-color: #000000; background-color: #ffff00\">shaving</span> glass by\n",
       "the window and was just beginning to <span style=\"color: #000000; text-decoration-color: #000000; background-color: #ffff00\">shave</span> Suddenly felt hand on my shoulder and heard the Count voice saying to me\n",
       "Good morning started for it amazed me that had not seen him since the reflection of the glass covered the whole \n",
       "room behind me In starting had cut myself slightly but did not notice it at the moment Having answered the Count \n",
       "salutation turned to the glass again to see how had been mistaken This time there could be no error for the man was\n",
       "close to me and could see him over my shoulder But there was no reflection of him in the mirror The whole room \n",
       "behind me was displayed but there was no sign of man in it except myself This was <span style=\"color: #000000; text-decoration-color: #000000; background-color: #ffff00\">startling</span> and coming on the top \n",
       "of so many strange things was beginning to increase that vague feeling of uneasiness which always have when the \n",
       "Count is near but at the instant <span style=\"color: #000000; text-decoration-color: #000000; background-color: #ffff00\">saw</span> that the cut had bled little and the blood was trickling over my chin laid \n",
       "down the razor turning as did so half round to look for some sticking plaster When the Count <span style=\"color: #000000; text-decoration-color: #000000; background-color: #ffff00\">saw</span> my face his eyes \n",
       "blazed with sort of demoniac fury and he suddenly made grab at my throat drew away and his hand touched the string \n",
       "of beads which held the crucifix It made an instant change in him for the fury passed so quickly that could hardly \n",
       "believe that it was ever there\n",
       "</pre>\n"
      ],
      "text/plain": [
       "only \u001b[30;48;2;255;255;0mslept\u001b[0m few hours when went to bed and feeling that could not sleep any more got up had hung my \u001b[30;48;2;255;255;0mshaving\u001b[0m glass by\n",
       "the window and was just beginning to \u001b[30;48;2;255;255;0mshave\u001b[0m Suddenly felt hand on my shoulder and heard the Count voice saying to me\n",
       "Good morning started for it amazed me that had not seen him since the reflection of the glass covered the whole \n",
       "room behind me In starting had cut myself slightly but did not notice it at the moment Having answered the Count \n",
       "salutation turned to the glass again to see how had been mistaken This time there could be no error for the man was\n",
       "close to me and could see him over my shoulder But there was no reflection of him in the mirror The whole room \n",
       "behind me was displayed but there was no sign of man in it except myself This was \u001b[30;48;2;255;255;0mstartling\u001b[0m and coming on the top \n",
       "of so many strange things was beginning to increase that vague feeling of uneasiness which always have when the \n",
       "Count is near but at the instant \u001b[30;48;2;255;255;0msaw\u001b[0m that the cut had bled little and the blood was trickling over my chin laid \n",
       "down the razor turning as did so half round to look for some sticking plaster When the Count \u001b[30;48;2;255;255;0msaw\u001b[0m my face his eyes \n",
       "blazed with sort of demoniac fury and he suddenly made grab at my throat drew away and his hand touched the string \n",
       "of beads which held the crucifix It made an instant change in him for the fury passed so quickly that could hardly \n",
       "believe that it was ever there\n"
      ]
     },
     "metadata": {},
     "output_type": "display_data"
    },
    {
     "data": {
      "text/plain": [
       "[('shave', 0.3691),\n",
       " ('shaving', 0.3665),\n",
       " ('startling', 0.3437),\n",
       " ('slept', 0.3282),\n",
       " ('saw', 0.2966)]"
      ]
     },
     "execution_count": 14,
     "metadata": {},
     "output_type": "execute_result"
    }
   ],
   "source": [
    "model.extract_keywords(text2, highlight=True)"
   ]
  },
  {
   "cell_type": "code",
   "execution_count": null,
   "metadata": {},
   "outputs": [],
   "source": []
  }
 ],
 "metadata": {
  "kernelspec": {
   "display_name": "keybert",
   "language": "python",
   "name": "python3"
  },
  "language_info": {
   "codemirror_mode": {
    "name": "ipython",
    "version": 3
   },
   "file_extension": ".py",
   "mimetype": "text/x-python",
   "name": "python",
   "nbconvert_exporter": "python",
   "pygments_lexer": "ipython3",
   "version": "3.10.12"
  },
  "orig_nbformat": 4
 },
 "nbformat": 4,
 "nbformat_minor": 2
}
