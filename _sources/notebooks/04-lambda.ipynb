{
 "cells": [
  {
   "cell_type": "markdown",
   "id": "36ec2add-b183-4e40-b500-adefaa264fef",
   "metadata": {},
   "source": [
    "# Lambda Functions for Humanists: A Beginner's Tutorial\n",
    "\n",
    "Lambda functions are a powerful yet simple feature in many programming languages that can help you write concise and elegant code. This tutorial is designed for humanists with little to no programming experience, and we will use examples from literature to demonstrate the usefulness of lambda functions.\n",
    "\n",
    "## What are lambda functions?\n",
    "\n",
    "Lambda functions are small, anonymous functions that can be created and used on-the-fly without needing a formal function definition. In simpler terms, they are one-liner functions that don't need a name.\n",
    "Why are lambda functions useful?\n",
    "\n",
    "- They allow for more concise and readable code.\n",
    "- They can be used as arguments to higher-order functions (functions that take other functions as inputs).\n",
    "- They are excellent for simple operations that don't require a full function definition.\n",
    "\n",
    "## Basic syntax\n",
    "\n",
    "In Python, the syntax for creating a lambda function is:\n",
    "\n",
    "```python\n",
    "lambda arguments: expression\n",
    "```\n",
    "\n",
    "The `lambda` keyword is followed by a list of arguments, a colon, and a single expression that the function will return.\n",
    "\n",
    "For example, let's say we have a simple function that adds two numbers:"
   ]
  },
  {
   "cell_type": "code",
   "execution_count": 1,
   "id": "322469af-99fc-4672-8bf1-33eb38f16f22",
   "metadata": {},
   "outputs": [],
   "source": [
    "def add(x, y):\n",
    "    return x + y"
   ]
  },
  {
   "cell_type": "markdown",
   "id": "a91ea106-2894-4748-b62a-50cfc4690da0",
   "metadata": {},
   "source": [
    "We can rewrite this function as a lambda function like this:"
   ]
  },
  {
   "cell_type": "code",
   "execution_count": 2,
   "id": "8c8ebae7-3ced-4ee9-8745-c456ecdd5452",
   "metadata": {},
   "outputs": [],
   "source": [
    "add = lambda x, y: x + y"
   ]
  },
  {
   "cell_type": "markdown",
   "id": "39b2bc5c-a505-4fe1-a4a6-0b7996cf286c",
   "metadata": {},
   "source": [
    "## Using lambda functions with our example lines\n",
    "\n",
    "Let's say we have the following list of lines from a poem:"
   ]
  },
  {
   "cell_type": "code",
   "execution_count": 4,
   "id": "c6bdd7f2-3d63-4d35-aad7-4f88ead5354c",
   "metadata": {},
   "outputs": [],
   "source": [
    "lines = [\n",
    "    \"Once upon a midnight dreary, while I pondered, weak and weary,\",\n",
    "    \"Over many a quaint and curious volume of forgotten lore—\",\n",
    "    \"While I nodded, nearly napping, suddenly there came a tapping,\",\n",
    "    \"As of some one gently rapping, rapping at my chamber door.\",\n",
    "]"
   ]
  },
  {
   "cell_type": "markdown",
   "id": "b21f477e-6dc4-4942-8e4e-9b06b9c3bc33",
   "metadata": {},
   "source": [
    "### Example 1: Counting words in each line\n",
    "\n",
    "Let's use a `lambda` function to count the number of words in each line. We can achieve this using the `map()` function, which applies a given function to each item in an iterable (like a list)."
   ]
  },
  {
   "cell_type": "code",
   "execution_count": 5,
   "id": "5dac81e6-1122-4266-9e97-49aa9a00ced5",
   "metadata": {},
   "outputs": [
    {
     "name": "stdout",
     "output_type": "stream",
     "text": [
      "[11, 10, 10, 11]\n"
     ]
    }
   ],
   "source": [
    "word_count = map(lambda line: len(line.split()), lines)\n",
    "\n",
    "# Convert the result to a list and print it\n",
    "print(list(word_count))"
   ]
  },
  {
   "cell_type": "markdown",
   "id": "e6b998bb-cb29-4ee3-9454-077cd55edb23",
   "metadata": {},
   "source": [
    "### Example 2: Sorting lines by length\n",
    "\n",
    "We can use a `lambda` function to sort the lines based on their length. The `sorted()` function can take a key argument, which is a function that defines how to sort the items."
   ]
  },
  {
   "cell_type": "code",
   "execution_count": 6,
   "id": "45dc2c89-a347-4b93-aab9-6b35cbec6f5c",
   "metadata": {},
   "outputs": [
    {
     "name": "stdout",
     "output_type": "stream",
     "text": [
      "Over many a quaint and curious volume of forgotten lore—\n",
      "As of some one gently rapping, rapping at my chamber door.\n",
      "Once upon a midnight dreary, while I pondered, weak and weary,\n",
      "While I nodded, nearly napping, suddenly there came a tapping,\n"
     ]
    }
   ],
   "source": [
    "sorted_lines = sorted(lines, key=lambda line: len(line))\n",
    "\n",
    "# Print the sorted lines\n",
    "for line in sorted_lines:\n",
    "    print(line)"
   ]
  },
  {
   "cell_type": "markdown",
   "id": "b7ce52e9-e8ba-4dc2-9df7-dd51c51451a2",
   "metadata": {},
   "source": [
    "Here, `lambda line: len(line)` is a lambda function that takes a single argument line and returns its length.\n",
    "\n",
    "While not essential in code, `lambda` functions can reduce the need to have functions for functional code that may only have a single use in your code. Lambda functions are a powerful tool for writing concise and elegant code. They can be especially useful for humanists working with text data, as they allow for quick and simple manipulation of strings and lists."
   ]
  },
  {
   "cell_type": "code",
   "execution_count": null,
   "id": "3e797fbf-952f-4c59-bc53-2bc332858de9",
   "metadata": {},
   "outputs": [],
   "source": []
  }
 ],
 "metadata": {
  "kernelspec": {
   "display_name": "Python 3 (ipykernel)",
   "language": "python",
   "name": "python3"
  },
  "language_info": {
   "codemirror_mode": {
    "name": "ipython",
    "version": 3
   },
   "file_extension": ".py",
   "mimetype": "text/x-python",
   "name": "python",
   "nbconvert_exporter": "python",
   "pygments_lexer": "ipython3",
   "version": "3.9.16"
  }
 },
 "nbformat": 4,
 "nbformat_minor": 5
}
