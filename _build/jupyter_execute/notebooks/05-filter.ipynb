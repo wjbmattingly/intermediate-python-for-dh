{
 "cells": [
  {
   "attachments": {},
   "cell_type": "markdown",
   "metadata": {},
   "source": [
    "# The Filter Function\n",
    "\n",
    "In this tutorial, we'll explore how to use the `filter()` function in Python, specifically for digital humanists. The `filter()` function is a built-in Python function. This means you do not need to install a library to use it. The function processes a sequence of data (such as lists, tuples, or any other iterable) and keeps only the elements that satisfy a specific condition. This condition is defined by a function or a lambda expression that returns a boolean value (True or False).\n",
    "\n",
    "When the filter() function is called, it iterates through each element in the sequence, applies the condition, and retains only the elements for which the condition returns True. The result is a new iterable, usually a list or a tuple, containing the filtered elements. If you are familiar with filtering in databases or a Pandas `DataFrame` in Python, then you may already be familiar with this concept.\n",
    "\n",
    "In simpler terms, the filter() function helps you selectively keep elements from a dataset based on a particular criterion or test. This is especially useful when working with large datasets or when you need to focus on specific aspects of the data.\n",
    "\n",
    "This powerful tool is particularly useful in digital humanities projects, where you often need to extract relevant information from large datasets, such as texts, metadata, or collections of cultural artifacts.\n",
    "\n",
    "For instance, digital humanists may want to identify specific words or phrases in a corpus of texts, filter out irrelevant data from a dataset of historical records, or analyze the occurrence of certain artistic features in a collection of paintings. The `filter()` function, when combined with appropriate conditions, can help streamline these tasks and provide valuable insights.\n",
    "\n",
    "We will be working with the following data:"
   ]
  },
  {
   "cell_type": "code",
   "execution_count": 3,
   "metadata": {},
   "outputs": [],
   "source": [
    "lines = [\n",
    "    \"Once upon a midnight dreary, while I pondered, weak and weary,\",\n",
    "    \"Over many a quaint and curious volume of forgotten lore—\",\n",
    "    \"While I nodded, nearly napping, suddenly there came a tapping,\",\n",
    "    \"As of some one gently rapping, rapping at my chamber door.\",\n",
    "]\n"
   ]
  },
  {
   "attachments": {},
   "cell_type": "markdown",
   "metadata": {},
   "source": [
    "## Using the `filter()` Function\n",
    "\n",
    "The filter() function has the following syntax:\n",
    "\n",
    "```python\n",
    "filter(function, iterable)\n",
    "```\n",
    "\n",
    "\n",
    "- `function`: A function that tests each item in the iterable and returns a boolean value (True or False).\n",
    "- `iterable`: An iterable (e.g., list, tuple, or string) whose elements will be tested by the function.\n",
    "\n",
    "The `filter()` function returns an iterator containing the elements that satisfy the condition set by the function.\n",
    "\n",
    "Let's start with a simple example. We will create a function that checks if a line starts with the word \"While\":"
   ]
  },
  {
   "cell_type": "code",
   "execution_count": 4,
   "metadata": {},
   "outputs": [],
   "source": [
    "def starts_with_while(line):\n",
    "    return line.startswith(\"While\")\n"
   ]
  },
  {
   "attachments": {},
   "cell_type": "markdown",
   "metadata": {},
   "source": [
    "Now, let's use the filter() function to keep only the lines that start with \"While\":"
   ]
  },
  {
   "cell_type": "code",
   "execution_count": 5,
   "metadata": {},
   "outputs": [],
   "source": [
    "filtered_lines = filter(starts_with_while, lines)"
   ]
  },
  {
   "attachments": {},
   "cell_type": "markdown",
   "metadata": {},
   "source": [
    "The filtered_lines variable is an iterator. To see the result, you can convert it to a list:"
   ]
  },
  {
   "cell_type": "code",
   "execution_count": 6,
   "metadata": {},
   "outputs": [
    {
     "name": "stdout",
     "output_type": "stream",
     "text": [
      "['While I nodded, nearly napping, suddenly there came a tapping,']\n"
     ]
    }
   ],
   "source": [
    "print(list(filtered_lines))"
   ]
  },
  {
   "attachments": {},
   "cell_type": "markdown",
   "metadata": {},
   "source": [
    "## Using `filter()` with Lambda Functions\n",
    "\n",
    "For simple filtering conditions, you can use lambda functions instead of defining a separate function. A lambda function is an anonymous, one-line function that you can define and use directly in the `filter()` function.\n",
    "\n",
    "For example, let's filter the lines that contain the word \"rapping\" using a lambda function:"
   ]
  },
  {
   "cell_type": "code",
   "execution_count": 7,
   "metadata": {},
   "outputs": [
    {
     "name": "stdout",
     "output_type": "stream",
     "text": [
      "['As of some one gently rapping, rapping at my chamber door.']\n"
     ]
    }
   ],
   "source": [
    "filtered_lines = filter(lambda line: \"rapping\" in line, lines)\n",
    "print(list(filtered_lines))\n"
   ]
  }
 ],
 "metadata": {
  "kernelspec": {
   "display_name": "base",
   "language": "python",
   "name": "python3"
  },
  "language_info": {
   "codemirror_mode": {
    "name": "ipython",
    "version": 3
   },
   "file_extension": ".py",
   "mimetype": "text/x-python",
   "name": "python",
   "nbconvert_exporter": "python",
   "pygments_lexer": "ipython3",
   "version": "3.8.5"
  }
 },
 "nbformat": 4,
 "nbformat_minor": 2
}