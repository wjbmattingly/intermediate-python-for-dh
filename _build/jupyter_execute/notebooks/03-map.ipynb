{
 "cells": [
  {
   "attachments": {},
   "cell_type": "markdown",
   "id": "d1e31ad0-5c06-4853-88b9-cb27fb2baeb7",
   "metadata": {},
   "source": [
    "# The Map Function\n",
    "\n",
    "This tutorial will introduce you to the map() function in Python, with a focus on working with strings. We'll use examples from Edgar Allan Poe's works to demonstrate the concepts in a manner that is relevant to humanists.\n",
    "\n",
    "## Example of a Problem\n",
    "\n",
    "Imagine we wanted to count the length of every line in Edgar Allan Poe's famous poem, \"The Raven.\" Let's try and solve this problem. First, let's create a list containing a few lines from the poem:"
   ]
  },
  {
   "cell_type": "code",
   "execution_count": 5,
   "id": "9b74a257-23dc-4e3c-b106-5cd1a5735c97",
   "metadata": {},
   "outputs": [],
   "source": [
    "lines = [\n",
    "    \"Once upon a midnight dreary, while I pondered, weak and weary,\",\n",
    "    \"Over many a quaint and curious volume of forgotten lore—\",\n",
    "    \"While I nodded, nearly napping, suddenly there came a tapping,\",\n",
    "    \"As of some one gently rapping, rapping at my chamber door.\",\n",
    "]"
   ]
  },
  {
   "cell_type": "markdown",
   "id": "89640f81-714a-4899-ab52-55f49216d6d6",
   "metadata": {},
   "source": [
    "Now that we have our data, let's count each line with a `for` loop."
   ]
  },
  {
   "cell_type": "code",
   "execution_count": 6,
   "id": "074cbcee-2e51-4e6c-980f-ecf17384275b",
   "metadata": {},
   "outputs": [
    {
     "name": "stdout",
     "output_type": "stream",
     "text": [
      "[62, 56, 62, 58]\n"
     ]
    }
   ],
   "source": [
    "line_lengths_list = []\n",
    "\n",
    "for line in lines:\n",
    "    line_length = len(line)\n",
    "    line_lengths_list.append(line_length)\n",
    "\n",
    "print(line_lengths_list)"
   ]
  },
  {
   "cell_type": "markdown",
   "id": "236cfe10-a3e9-4f2e-a062-61a64e157042",
   "metadata": {},
   "source": [
    "By using a for loop, we iterate through each line in the `lines` list, calculate the length of each line with `len(line)`, and append the result to the `line_lengths_list`. In this tutorial, we will learn about how the `map()` function can make this problem far simpler to solve with far less code."
   ]
  },
  {
   "cell_type": "markdown",
   "id": "2e09bd05-3e52-408a-8795-8217287892cf",
   "metadata": {},
   "source": [
    "## What is the `map()` function?\n",
    "\n",
    "The `map()` function is a built-in Python function that allows you to apply a function to every item in an iterable (such as a list or tuple) and returns an iterable `map` object, which can be converted into a list or other iterable data structure.\n",
    "\n",
    "\n",
    "The `map()` function has the following syntax:\n",
    "\n",
    "```python\n",
    "map(function, iterable)\n",
    "```\n",
    "\n",
    "## Basic usage of the map() function with strings\n",
    "\n",
    "Let's start with a simple example. Suppose we have a list of strings containing lines from the same poem. We want to find the length of each line in the poem.\n",
    "\n",
    "Let's use the same data."
   ]
  },
  {
   "cell_type": "code",
   "execution_count": 1,
   "id": "b7fec80b-542c-4c08-9bcd-38b7ad3aae08",
   "metadata": {},
   "outputs": [],
   "source": [
    "lines = [\n",
    "    \"Once upon a midnight dreary, while I pondered, weak and weary,\",\n",
    "    \"Over many a quaint and curious volume of forgotten lore—\",\n",
    "    \"While I nodded, nearly napping, suddenly there came a tapping,\",\n",
    "    \"As of some one gently rapping, rapping at my chamber door.\",\n",
    "]"
   ]
  },
  {
   "cell_type": "markdown",
   "id": "f5d6ee45-23d2-4325-b250-c4a3dffe2392",
   "metadata": {},
   "source": [
    "Now, let's use the `map()` function to find the length of each line. We'll use the built-in `len()` function as the function to apply to each line:"
   ]
  },
  {
   "cell_type": "code",
   "execution_count": 2,
   "id": "f6183513-be9d-490c-8b13-95d739371a6e",
   "metadata": {},
   "outputs": [
    {
     "data": {
      "text/plain": [
       "<map at 0x218e7dd0c70>"
      ]
     },
     "execution_count": 2,
     "metadata": {},
     "output_type": "execute_result"
    }
   ],
   "source": [
    "line_lengths = map(len, lines)\n",
    "line_lengths"
   ]
  },
  {
   "attachments": {},
   "cell_type": "markdown",
   "id": "f557f250",
   "metadata": {},
   "source": [
    "At this stage, we have a generator. To learn about generators and why they are important, check out the generator section of this textbook. We can convert this generator into a list and the print it off."
   ]
  },
  {
   "cell_type": "code",
   "execution_count": 3,
   "id": "99bb737d",
   "metadata": {},
   "outputs": [
    {
     "name": "stdout",
     "output_type": "stream",
     "text": [
      "[62, 56, 62, 58]\n"
     ]
    }
   ],
   "source": [
    "# Convert the map object to a list\n",
    "line_lengths_list = list(line_lengths)\n",
    "\n",
    "# Print the result\n",
    "print(line_lengths_list)"
   ]
  },
  {
   "cell_type": "markdown",
   "id": "52baa96f-9a64-41fe-875e-48dbd50e3866",
   "metadata": {},
   "source": [
    "The `map()` function has applied the len() function to each line in the list, and the results have been returned in a new list.\n",
    "\n",
    "## Using custom functions with map()\n",
    "\n",
    "Now let's create a custom function to count number of words in each line with split. We'll use this function with the `map()` function.\n",
    "\n",
    "First, let's create the custom function:"
   ]
  },
  {
   "cell_type": "code",
   "execution_count": 14,
   "id": "26c389b9-f3ca-45f5-8425-b524b4ef62d8",
   "metadata": {},
   "outputs": [],
   "source": [
    "def count_words(line):\n",
    "    return len(line.split())"
   ]
  },
  {
   "cell_type": "markdown",
   "id": "641156c7-5c3e-45c5-8995-f1ba7d5dc841",
   "metadata": {},
   "source": [
    "Now, let's use the `map()` function with our custom function to count the number of words in each line."
   ]
  },
  {
   "cell_type": "code",
   "execution_count": 15,
   "id": "83ae5af3-40d0-4148-8fec-1622289e4c0b",
   "metadata": {},
   "outputs": [
    {
     "name": "stdout",
     "output_type": "stream",
     "text": [
      "[11, 10, 10, 11]\n"
     ]
    }
   ],
   "source": [
    "word_counts = list(map(count_words, lines))\n",
    "print(word_counts)"
   ]
  },
  {
   "cell_type": "markdown",
   "id": "127b13d1-c00a-4496-a001-e5e3dc138151",
   "metadata": {},
   "source": [
    "The `map()` function has applied our custom `count_words()` function to each line in the list, and the results have been returned in a new list.\n",
    "\n",
    "Often, when we use `map()`, we use it alongside `lambda` functions. We will meet those in the next tutorial."
   ]
  },
  {
   "cell_type": "code",
   "execution_count": null,
   "id": "2adb9afa-4dce-4d33-b901-4d206bd2b06d",
   "metadata": {},
   "outputs": [],
   "source": []
  }
 ],
 "metadata": {
  "kernelspec": {
   "display_name": "Python 3 (ipykernel)",
   "language": "python",
   "name": "python3"
  },
  "language_info": {
   "codemirror_mode": {
    "name": "ipython",
    "version": 3
   },
   "file_extension": ".py",
   "mimetype": "text/x-python",
   "name": "python",
   "nbconvert_exporter": "python",
   "pygments_lexer": "ipython3",
   "version": "3.8.5"
  }
 },
 "nbformat": 4,
 "nbformat_minor": 5
}