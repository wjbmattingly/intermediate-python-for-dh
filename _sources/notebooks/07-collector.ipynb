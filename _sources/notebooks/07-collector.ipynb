{
 "cells": [
  {
   "attachments": {},
   "cell_type": "markdown",
   "metadata": {},
   "source": [
    "# Collector from Collections\n",
    "\n",
    "The Python `collections` library is a powerful module that extends the built-in collection types such as lists, dictionaries, and tuples. In this tutorial, we will explore some important classes in the collections module, like `Counter`, `deque`, `namedtuple`, `OrderedDict`, and `defaultdict`.\n",
    "\n",
    "In this tutorial, we'll explore the `Counter()` class from the collections module in Python. This is a beginner-friendly tutorial, so don't worry if you're new to Python programming. We'll guide you through the basics step by step.\n",
    "\n",
    "## What is a Counter?\n",
    "\n",
    "A `Counter` is a Python class that allows you to count the occurrences of elements in a collection, such as a list, tuple, or string. It is a subclass of the built-in dict class, so you can use it just like a regular dictionary.\n",
    "\n",
    "## Why use a Counter?\n",
    "\n",
    "`Counter` can be incredibly useful when you need to count elements in a collection and store the results in a dictionary-like format. It simplifies the process by handling all the counting logic for you.\n",
    "\n",
    "## Importing Counter\n",
    "\n",
    "Before we can use the `Counter()` class, we need to import it from the `collections` module. Here's how to do that:"
   ]
  },
  {
   "cell_type": "code",
   "execution_count": 3,
   "metadata": {},
   "outputs": [],
   "source": [
    "from collections import Counter"
   ]
  },
  {
   "attachments": {},
   "cell_type": "markdown",
   "metadata": {},
   "source": [
    "## Creating a Counter\n",
    "\n",
    "To create a new Counter object, simply pass a collection (like a list, tuple, or string) as an argument to the `Counter()` function. Let's see an example:"
   ]
  },
  {
   "cell_type": "code",
   "execution_count": 4,
   "metadata": {},
   "outputs": [
    {
     "name": "stdout",
     "output_type": "stream",
     "text": [
      "Counter({'to': 2, 'be': 2, 'or': 1, 'not': 1, 'that': 1, 'is': 1, 'the': 1, 'question': 1})\n"
     ]
    }
   ],
   "source": [
    "words = ['to', 'be', 'or', 'not', 'to', 'be', 'that', 'is', 'the', 'question']\n",
    "word_counter = Counter(words)\n",
    "\n",
    "print(word_counter)"
   ]
  },
  {
   "attachments": {},
   "cell_type": "markdown",
   "metadata": {},
   "source": [
    "As you can see, the Counter object counts the occurrences of each word in the words list and stores the result as a dictionary.\n",
    "\n",
    "## Accessing Counts\n",
    "\n",
    "You can access the count of an element using the square bracket notation, just like you would do with a regular dictionary:"
   ]
  },
  {
   "cell_type": "code",
   "execution_count": 5,
   "metadata": {},
   "outputs": [
    {
     "name": "stdout",
     "output_type": "stream",
     "text": [
      "2\n"
     ]
    }
   ],
   "source": [
    "to_count = word_counter['to']\n",
    "print(to_count)"
   ]
  },
  {
   "attachments": {},
   "cell_type": "markdown",
   "metadata": {},
   "source": [
    "In some instances, we may write code where we try count words that do not appear in the `Counter`. Rather than throwing an error, `Counter` will simply return a 0."
   ]
  },
  {
   "cell_type": "code",
   "execution_count": 6,
   "metadata": {},
   "outputs": [
    {
     "name": "stdout",
     "output_type": "stream",
     "text": [
      "0\n"
     ]
    }
   ],
   "source": [
    "print(word_counter[\"and\"])"
   ]
  },
  {
   "attachments": {},
   "cell_type": "markdown",
   "metadata": {},
   "source": [
    "## Updating Counts\n",
    "\n",
    "To update the counts in a `Counter`, you can use the `update()` method. This method takes an iterable as an argument and updates the counts accordingly:"
   ]
  },
  {
   "cell_type": "code",
   "execution_count": 6,
   "metadata": {},
   "outputs": [
    {
     "name": "stdout",
     "output_type": "stream",
     "text": [
      "Counter({'to': 4, 'be': 4, 'or': 2, 'not': 2, 'that': 1, 'is': 1, 'the': 1, 'question': 1})\n"
     ]
    }
   ],
   "source": [
    "more_words = ['to', 'be', 'or', 'not', 'to', 'be']\n",
    "word_counter.update(more_words)\n",
    "\n",
    "print(word_counter)"
   ]
  },
  {
   "attachments": {},
   "cell_type": "markdown",
   "metadata": {},
   "source": [
    "## Finding Most Common Elements\n",
    "\n",
    "Use the `most_common()` method to get a list of the n most common elements and their counts:"
   ]
  },
  {
   "cell_type": "code",
   "execution_count": 7,
   "metadata": {},
   "outputs": [
    {
     "name": "stdout",
     "output_type": "stream",
     "text": [
      "[('to', 4), ('be', 4), ('or', 2)]\n"
     ]
    }
   ],
   "source": [
    "top_three_words = word_counter.most_common(3)\n",
    "print(top_three_words) "
   ]
  },
  {
   "cell_type": "code",
   "execution_count": null,
   "metadata": {},
   "outputs": [],
   "source": [
    "word_counter.clear()\n",
    "print(word_counter)"
   ]
  },
  {
   "attachments": {},
   "cell_type": "markdown",
   "metadata": {},
   "source": [
    "## Real Example for Finding Frequency in text.\n",
    "\n",
    "Now that you have a basic understanding of how to use the `Counter()` class, let's see a practical example in the context of humanities research. In this example, we will count the frequencies of words in a given text. There are better ways to split a text (such as via spaCy), but for this example, the simple `split()` function will suffice."
   ]
  },
  {
   "cell_type": "code",
   "execution_count": 7,
   "metadata": {},
   "outputs": [
    {
     "name": "stdout",
     "output_type": "stream",
     "text": [
      "Counter({'to': 4, 'the': 3, 'be,': 2, 'or': 2, 'and': 2, 'of': 2, 'not': 1, 'that': 1, 'is': 1, 'question:': 1, 'whether': 1, \"'tis\": 1, 'nobler': 1, 'in': 1, 'mind': 1, 'suffer': 1, 'slings': 1, 'arrows': 1, 'outrageous': 1, 'fortune,': 1, 'take': 1, 'arms': 1, 'against': 1, 'a': 1, 'sea': 1, 'troubles': 1, 'by': 1, 'opposing': 1, 'end': 1, 'them.': 1})\n"
     ]
    }
   ],
   "source": [
    "text = \"\"\"To be, or not to be, that is the question:\n",
    "Whether 'tis nobler in the mind to suffer\n",
    "The slings and arrows of outrageous fortune,\n",
    "Or to take arms against a sea of troubles\n",
    "And by opposing end them.\"\"\"\n",
    "\n",
    "# Convert the text to lowercase and split it into a list of words\n",
    "words = text.lower().split()\n",
    "\n",
    "# Create a Counter object to count the word occurrences\n",
    "word_counter = Counter(words)\n",
    "\n",
    "# Print the word frequencies\n",
    "print(word_counter)"
   ]
  },
  {
   "attachments": {},
   "cell_type": "markdown",
   "metadata": {},
   "source": [
    "Wth the word frequencies calculated, you can perform various analyses, such as finding the most common words, identifying themes, or comparing the usage of words across different texts. The Counter class is a powerful tool for humanities research, offering an easy and efficient way to count and analyze elements in a collection."
   ]
  },
  {
   "cell_type": "code",
   "execution_count": null,
   "metadata": {},
   "outputs": [],
   "source": []
  }
 ],
 "metadata": {
  "kernelspec": {
   "display_name": "base",
   "language": "python",
   "name": "python3"
  },
  "language_info": {
   "codemirror_mode": {
    "name": "ipython",
    "version": 3
   },
   "file_extension": ".py",
   "mimetype": "text/x-python",
   "name": "python",
   "nbconvert_exporter": "python",
   "pygments_lexer": "ipython3",
   "version": "3.8.5"
  },
  "orig_nbformat": 4
 },
 "nbformat": 4,
 "nbformat_minor": 2
}
